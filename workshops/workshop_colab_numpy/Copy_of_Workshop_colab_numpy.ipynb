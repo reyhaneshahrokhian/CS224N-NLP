{
  "nbformat": 4,
  "nbformat_minor": 0,
  "metadata": {
    "colab": {
      "provenance": []
    },
    "kernelspec": {
      "name": "python3",
      "display_name": "Python 3"
    },
    "language_info": {
      "name": "python"
    }
  },
  "cells": [
    {
      "cell_type": "markdown",
      "source": [
        "# Welcome There!\n",
        "Let us begin! \n",
        "\n",
        "The document you are reading is not a static web page, but an interactive environment called a Colab notebook that lets you write and execute code."
      ],
      "metadata": {
        "id": "Lk6vS0DPqj4t"
      }
    },
    {
      "cell_type": "markdown",
      "source": [
        "## Getting Started\n",
        "\n",
        "For example, here is a **code cell** with a short Python script that computes a value, stores it in a variable, and prints the result:"
      ],
      "metadata": {
        "id": "Kb9jHQCjtdQe"
      }
    },
    {
      "cell_type": "code",
      "execution_count": null,
      "metadata": {
        "id": "B8zOdu_7seCW",
        "colab": {
          "base_uri": "https://localhost:8080/"
        },
        "outputId": "c81cccb9-faaa-4e1c-9301-9d0db40c83ea"
      },
      "outputs": [
        {
          "output_type": "execute_result",
          "data": {
            "text/plain": [
              "86400"
            ]
          },
          "metadata": {},
          "execution_count": 1
        }
      ],
      "source": [
        "seconds_in_a_day = 24 * 60 * 60\n",
        "seconds_in_a_day"
      ]
    },
    {
      "cell_type": "markdown",
      "source": [
        "To execute the code in the above cell, select it with a click and then either press the play button to the left of the code, or use the keyboard shortcut \"Command/Ctrl+Enter\". To edit the code, just click the cell and start editing.\n",
        "\n",
        "Variables that you define in one cell can later be used in other cells:"
      ],
      "metadata": {
        "id": "mLThMGqBupRE"
      }
    },
    {
      "cell_type": "code",
      "source": [
        "seconds_in_a_week = 7 * seconds_in_a_day\n",
        "seconds_in_a_week"
      ],
      "metadata": {
        "colab": {
          "base_uri": "https://localhost:8080/"
        },
        "id": "0iSOMgcBuqRY",
        "outputId": "d817bda3-9517-49fa-937a-40e8379e477c"
      },
      "execution_count": null,
      "outputs": [
        {
          "output_type": "execute_result",
          "data": {
            "text/plain": [
              "604800"
            ]
          },
          "metadata": {},
          "execution_count": 2
        }
      ]
    },
    {
      "cell_type": "markdown",
      "source": [
        "###System Level Commands\n",
        "\n",
        "You can run any (allowed) system commands usin \"!\" sign."
      ],
      "metadata": {
        "id": "kSwSodXY6KRt"
      }
    },
    {
      "cell_type": "code",
      "source": [
        "!ls .."
      ],
      "metadata": {
        "colab": {
          "base_uri": "https://localhost:8080/"
        },
        "id": "dK_V1RlZ69Vu",
        "outputId": "f3ebc82c-7cbb-4da3-cb0c-6522208bb172"
      },
      "execution_count": null,
      "outputs": [
        {
          "output_type": "stream",
          "name": "stdout",
          "text": [
            "bin\t dev   lib32   mnt\t\t\t root  sys    var\n",
            "boot\t etc   lib64   NGC-DL-CONTAINER-LICENSE  run   tmp\n",
            "content  home  libx32  opt\t\t\t sbin  tools\n",
            "datalab  lib   media   proc\t\t\t srv   usr\n"
          ]
        }
      ]
    },
    {
      "cell_type": "code",
      "source": [
        "!git"
      ],
      "metadata": {
        "colab": {
          "base_uri": "https://localhost:8080/"
        },
        "id": "j6YaQv6r7KsR",
        "outputId": "9f52cf6a-8eb3-42f2-a4f4-8699af94039a"
      },
      "execution_count": null,
      "outputs": [
        {
          "output_type": "stream",
          "name": "stdout",
          "text": [
            "usage: git [--version] [--help] [-C <path>] [-c <name>=<value>]\n",
            "           [--exec-path[=<path>]] [--html-path] [--man-path] [--info-path]\n",
            "           [-p | --paginate | -P | --no-pager] [--no-replace-objects] [--bare]\n",
            "           [--git-dir=<path>] [--work-tree=<path>] [--namespace=<name>]\n",
            "           <command> [<args>]\n",
            "\n",
            "These are common Git commands used in various situations:\n",
            "\n",
            "start a working area (see also: git help tutorial)\n",
            "   clone             Clone a repository into a new directory\n",
            "   init              Create an empty Git repository or reinitialize an existing one\n",
            "\n",
            "work on the current change (see also: git help everyday)\n",
            "   add               Add file contents to the index\n",
            "   mv                Move or rename a file, a directory, or a symlink\n",
            "   restore           Restore working tree files\n",
            "   rm                Remove files from the working tree and from the index\n",
            "   sparse-checkout   Initialize and modify the sparse-checkout\n",
            "\n",
            "examine the history and state (see also: git help revisions)\n",
            "   bisect            Use binary search to find the commit that introduced a bug\n",
            "   diff              Show changes between commits, commit and working tree, etc\n",
            "   grep              Print lines matching a pattern\n",
            "   log               Show commit logs\n",
            "   show              Show various types of objects\n",
            "   status            Show the working tree status\n",
            "\n",
            "grow, mark and tweak your common history\n",
            "   branch            List, create, or delete branches\n",
            "   commit            Record changes to the repository\n",
            "   merge             Join two or more development histories together\n",
            "   rebase            Reapply commits on top of another base tip\n",
            "   reset             Reset current HEAD to the specified state\n",
            "   switch            Switch branches\n",
            "   tag               Create, list, delete or verify a tag object signed with GPG\n",
            "\n",
            "collaborate (see also: git help workflows)\n",
            "   fetch             Download objects and refs from another repository\n",
            "   pull              Fetch from and integrate with another repository or a local branch\n",
            "   push              Update remote refs along with associated objects\n",
            "\n",
            "'git help -a' and 'git help -g' list available subcommands and some\n",
            "concept guides. See 'git help <command>' or 'git help <concept>'\n",
            "to read about a specific subcommand or concept.\n",
            "See 'git help git' for an overview of the system.\n"
          ]
        }
      ]
    },
    {
      "cell_type": "code",
      "source": [
        "!cat /etc/os-release"
      ],
      "metadata": {
        "colab": {
          "base_uri": "https://localhost:8080/"
        },
        "id": "9pfhvL0j7zYZ",
        "outputId": "2ebcd217-05a9-495f-b621-c2e28e17fc59"
      },
      "execution_count": null,
      "outputs": [
        {
          "output_type": "stream",
          "name": "stdout",
          "text": [
            "NAME=\"Ubuntu\"\n",
            "VERSION=\"20.04.5 LTS (Focal Fossa)\"\n",
            "ID=ubuntu\n",
            "ID_LIKE=debian\n",
            "PRETTY_NAME=\"Ubuntu 20.04.5 LTS\"\n",
            "VERSION_ID=\"20.04\"\n",
            "HOME_URL=\"https://www.ubuntu.com/\"\n",
            "SUPPORT_URL=\"https://help.ubuntu.com/\"\n",
            "BUG_REPORT_URL=\"https://bugs.launchpad.net/ubuntu/\"\n",
            "PRIVACY_POLICY_URL=\"https://www.ubuntu.com/legal/terms-and-policies/privacy-policy\"\n",
            "VERSION_CODENAME=focal\n",
            "UBUNTU_CODENAME=focal\n"
          ]
        }
      ]
    },
    {
      "cell_type": "markdown",
      "source": [
        "#Machine Learning \n",
        "Colab notebooks allow you to combine **executable code** and **rich text** in a single document, along with **images**, **HTML**, **LaTeX** and more. When you create your own Colab notebooks, they are stored in your Google Drive account. You can easily share your Colab notebooks with co-workers or friends, allowing them to comment on your notebooks or even edit them. To learn more, see [Overview of Colab](/notebooks/basic_features_overview.ipynb). To create a new Colab notebook you can use the File menu above, or use the following link: [create a new Colab notebook](http://colab.research.google.com#create=true).\n",
        "\n",
        "Colab notebooks are Jupyter notebooks that are hosted by Colab. To learn more about the Jupyter project, see [jupyter.org](https://www.jupyter.org).\n",
        "\n",
        "Colab is used extensively in the machine learning community with applications including:\n",
        "- Getting started with Torch, TensorFlow\n",
        "- Developing and training neural networks\n",
        "- Experimenting with TPUs\n",
        "- Disseminating AI research\n",
        "- Creating tutorials"
      ],
      "metadata": {
        "id": "OzWr5IVBu1ZO"
      }
    },
    {
      "cell_type": "markdown",
      "source": [
        "##Working with Data\n",
        "We mostly use CSV, json, and sometimes pickles to store our data. You can save them either in your local system or google drive and simply use them in colab. \n"
      ],
      "metadata": {
        "id": "N2UwsAFailYR"
      }
    },
    {
      "cell_type": "markdown",
      "source": [
        "###Mounting Google Drive locally\n",
        "The example below shows how to mount your Google Drive on your runtime using an authorization code, and how to write and read files there. Once executed, you will be able to see the new file (`foo.txt`) at [https://drive.google.com/](https://drive.google.com/).\n",
        "\n",
        "This only supports reading, writing, and moving files; to programmatically modify sharing settings or other metadata, use one of the other options below.\n",
        "\n",
        "**Note:** When using the 'Mount Drive' button in the file browser, no authentication codes are necessary for notebooks that have only been edited by the current user."
      ],
      "metadata": {
        "id": "VulrYatQjHhD"
      }
    },
    {
      "cell_type": "code",
      "source": [
        "from google.colab import drive\n",
        "drive.mount('/content/drive')"
      ],
      "metadata": {
        "id": "zJoKKxM4u0zv",
        "colab": {
          "base_uri": "https://localhost:8080/"
        },
        "outputId": "1694b2a5-f905-4774-be7f-fac294334efb"
      },
      "execution_count": 1,
      "outputs": [
        {
          "output_type": "stream",
          "name": "stdout",
          "text": [
            "Mounted at /content/drive\n"
          ]
        }
      ]
    },
    {
      "cell_type": "code",
      "source": [
        "with open('/content/drive/My Drive/foo.txt', 'w') as f:\n",
        "  f.write('Hello Google Drive!')\n",
        "!cat /content/drive/My\\ Drive/foo.txt"
      ],
      "metadata": {
        "id": "Up9PG8FNjSqR"
      },
      "execution_count": null,
      "outputs": []
    },
    {
      "cell_type": "code",
      "source": [
        "drive.flush_and_unmount()\n",
        "print('All changes made in this colab session should now be visible in Drive.')"
      ],
      "metadata": {
        "id": "jbhBrqM7jXbG"
      },
      "execution_count": null,
      "outputs": []
    },
    {
      "cell_type": "markdown",
      "source": [
        "###Read CSV files"
      ],
      "metadata": {
        "id": "S4rM3-yDjsMS"
      }
    },
    {
      "cell_type": "code",
      "source": [
        "import csv\n",
        "with open('dummy.csv', newline='') as csvfile:\n",
        "    reader = csv.DictReader(csvfile)\n",
        "    for row in reader:\n",
        "        pass"
      ],
      "metadata": {
        "id": "A9Kg_xDIjuRH"
      },
      "execution_count": null,
      "outputs": []
    },
    {
      "cell_type": "markdown",
      "source": [
        "###Load Json files"
      ],
      "metadata": {
        "id": "7tUAOTFmknlD"
      }
    },
    {
      "cell_type": "code",
      "source": [
        "import json\n",
        "with open('dummy.json', 'r') as f:\n",
        "    data = json.load(f)"
      ],
      "metadata": {
        "id": "jcvjan_Uj1-g"
      },
      "execution_count": null,
      "outputs": []
    },
    {
      "cell_type": "markdown",
      "source": [
        "###Pickle\n",
        "\n",
        "The pickle module implements binary protocols for serializing and de-serializing a Python object structure. “Pickling” is the process whereby a Python object hierarchy is converted into a byte stream, and “unpickling” is the inverse operation, whereby a byte stream (from a binary file or bytes-like object) is converted back into an object hierarchy."
      ],
      "metadata": {
        "id": "UKQPOkZDqqbd"
      }
    },
    {
      "cell_type": "code",
      "source": [
        "dummy_object = {\"hey\": [1], \"hi\": [46]}\n",
        "import pickle \n",
        "with open(\"dummy.pickle\", 'wb') as f:\n",
        "    pickle.dump(dummy_object, f)\n",
        "with open(\"dummy.pickle\", \"rb\") as f:\n",
        "    d = pickle.load(f)\n",
        "d"
      ],
      "metadata": {
        "colab": {
          "base_uri": "https://localhost:8080/"
        },
        "id": "mrmWVis0rI6B",
        "outputId": "36300c5b-9de9-4df5-aecb-57449338d7cd"
      },
      "execution_count": null,
      "outputs": [
        {
          "output_type": "execute_result",
          "data": {
            "text/plain": [
              "{'hey': [1], 'hi': [46]}"
            ]
          },
          "metadata": {},
          "execution_count": 10
        }
      ]
    },
    {
      "cell_type": "markdown",
      "source": [
        "##Numpy\n",
        "NumPy gives you an enormous range of fast and efficient ways of creating arrays and manipulating numerical data inside them. While a Python list can contain different data types within a single list, all of the elements in a NumPy array should be homogeneous. The mathematical operations that are meant to be performed on arrays would be extremely inefficient if the arrays weren’t homogeneous.\n",
        "\n",
        "NumPy arrays are faster and more compact than Python lists. An array consumes less memory and is convenient to use. NumPy uses much less memory to store data and it provides a mechanism of specifying the data types. This allows the code to be optimized even further."
      ],
      "metadata": {
        "id": "zCEQALrkkxxg"
      }
    },
    {
      "cell_type": "markdown",
      "source": [
        "<img src=\"https://transfer.sh/kT27Qo/20230228_160723.jpg\" alt=\"Scalar, Vectors and Tensors\" style=\"height: 100px; width:100px;\"/>"
      ],
      "metadata": {
        "id": "22nx400E6CWw"
      }
    },
    {
      "cell_type": "code",
      "source": [
        "import numpy as np\n",
        "x = np.array([\n",
        "              [1, 2], \n",
        "              [3, 4]\n",
        "              ])\n",
        "y = np.array([[5, 6]])\n",
        "x.shape, y.shape"
      ],
      "metadata": {
        "colab": {
          "base_uri": "https://localhost:8080/"
        },
        "id": "R2Pkn1c2mKo4",
        "outputId": "fa08634d-a545-4c43-e087-770a26b72c0a"
      },
      "execution_count": null,
      "outputs": [
        {
          "output_type": "execute_result",
          "data": {
            "text/plain": [
              "((2, 2), (1, 2))"
            ]
          },
          "metadata": {},
          "execution_count": 1
        }
      ]
    },
    {
      "cell_type": "code",
      "source": [
        "z = np.dot(y, x)\n",
        "z, z.shape"
      ],
      "metadata": {
        "colab": {
          "base_uri": "https://localhost:8080/"
        },
        "id": "sttexKnUnA0A",
        "outputId": "a7bbd647-c9f3-408e-aea1-073776681b79"
      },
      "execution_count": null,
      "outputs": [
        {
          "output_type": "execute_result",
          "data": {
            "text/plain": [
              "(array([[23, 34]]), (1, 2))"
            ]
          },
          "metadata": {},
          "execution_count": 6
        }
      ]
    },
    {
      "cell_type": "code",
      "source": [
        "z = np.concatenate([x, y], axis=0)\n",
        "z, z.shape"
      ],
      "metadata": {
        "colab": {
          "base_uri": "https://localhost:8080/"
        },
        "id": "QNdQDSOipamO",
        "outputId": "d12f860f-684f-4552-a778-0f58a0ac5f2f"
      },
      "execution_count": null,
      "outputs": [
        {
          "output_type": "execute_result",
          "data": {
            "text/plain": [
              "(array([[1, 2],\n",
              "        [3, 4],\n",
              "        [5, 6]]), (3, 2))"
            ]
          },
          "metadata": {},
          "execution_count": 5
        }
      ]
    },
    {
      "cell_type": "code",
      "source": [
        "a = np.array([[[[[[[[1, 2, 3]]]]]]]])\n",
        "a.shape"
      ],
      "metadata": {
        "colab": {
          "base_uri": "https://localhost:8080/"
        },
        "id": "_UVyfctZbYky",
        "outputId": "ba42c4ae-c0e0-4bb1-bbe9-9dae1b26d2bb"
      },
      "execution_count": null,
      "outputs": [
        {
          "output_type": "execute_result",
          "data": {
            "text/plain": [
              "(1, 1, 1, 1, 1, 1, 1, 3)"
            ]
          },
          "metadata": {},
          "execution_count": 17
        }
      ]
    },
    {
      "cell_type": "code",
      "source": [
        "np.squeeze(a), np.squeeze(a).shape"
      ],
      "metadata": {
        "colab": {
          "base_uri": "https://localhost:8080/"
        },
        "id": "DUWjVneQbg03",
        "outputId": "6c3d34c1-738b-444e-b51d-a022630a0b13"
      },
      "execution_count": null,
      "outputs": [
        {
          "output_type": "execute_result",
          "data": {
            "text/plain": [
              "(array([1, 2, 3]), (3,))"
            ]
          },
          "metadata": {},
          "execution_count": 19
        }
      ]
    },
    {
      "cell_type": "markdown",
      "source": [
        "##Alright, Hands on Keyboard!!\n",
        "\n",
        "Okay, let's start coding a simple regression to predict whether a given word is verb or not. You will use GloVe word embedding to extract the word meaning, then you will input it to a simple regerssion and output the probability of being a verb! In other words, you will calculate : \\\\\n",
        "\n",
        "<h1><center>P(W is verb | W=\"sample\")</center></h1>\n",
        "\n",
        "Please run these cells to gather required dataset. "
      ],
      "metadata": {
        "id": "PNDTofPY1RSV"
      }
    },
    {
      "cell_type": "markdown",
      "source": [
        "Words are ready! You have to download GloVe embedding vectors from this [link](http://nlp.stanford.edu/data/glove.6B.zip) using \"wget\" command"
      ],
      "metadata": {
        "id": "yDBkUrh_Bd7X"
      }
    },
    {
      "cell_type": "code",
      "source": [
        "######## YOUR CODE HERE #############\n",
        "!wget http://nlp.stanford.edu/data/glove.6B.zip"
      ],
      "metadata": {
        "colab": {
          "base_uri": "https://localhost:8080/"
        },
        "id": "EkbHew8wBceS",
        "outputId": "8e1ac707-e0f1-4bf8-e381-66bec2a52752"
      },
      "execution_count": 2,
      "outputs": [
        {
          "output_type": "stream",
          "name": "stdout",
          "text": [
            "--2023-03-04 11:09:12--  http://nlp.stanford.edu/data/glove.6B.zip\n",
            "Resolving nlp.stanford.edu (nlp.stanford.edu)... 171.64.67.140\n",
            "Connecting to nlp.stanford.edu (nlp.stanford.edu)|171.64.67.140|:80... connected.\n",
            "HTTP request sent, awaiting response... 302 Found\n",
            "Location: https://nlp.stanford.edu/data/glove.6B.zip [following]\n",
            "--2023-03-04 11:09:12--  https://nlp.stanford.edu/data/glove.6B.zip\n",
            "Connecting to nlp.stanford.edu (nlp.stanford.edu)|171.64.67.140|:443... connected.\n",
            "HTTP request sent, awaiting response... 301 Moved Permanently\n",
            "Location: https://downloads.cs.stanford.edu/nlp/data/glove.6B.zip [following]\n",
            "--2023-03-04 11:09:12--  https://downloads.cs.stanford.edu/nlp/data/glove.6B.zip\n",
            "Resolving downloads.cs.stanford.edu (downloads.cs.stanford.edu)... 171.64.64.22\n",
            "Connecting to downloads.cs.stanford.edu (downloads.cs.stanford.edu)|171.64.64.22|:443... connected.\n",
            "HTTP request sent, awaiting response... 200 OK\n",
            "Length: 862182613 (822M) [application/zip]\n",
            "Saving to: ‘glove.6B.zip’\n",
            "\n",
            "glove.6B.zip        100%[===================>] 822.24M  4.98MB/s    in 2m 42s  \n",
            "\n",
            "2023-03-04 11:11:54 (5.09 MB/s) - ‘glove.6B.zip’ saved [862182613/862182613]\n",
            "\n"
          ]
        }
      ]
    },
    {
      "cell_type": "code",
      "source": [
        "# Unzip downloaded file! cmd: unzip\n",
        "###### YOUR CODE HERE ###########\n",
        "!unzip /content/glove.6B.zip"
      ],
      "metadata": {
        "id": "xtPCS0t7D8UX",
        "colab": {
          "base_uri": "https://localhost:8080/"
        },
        "outputId": "65068c72-9053-4915-b4e2-bd13650dcedd"
      },
      "execution_count": 3,
      "outputs": [
        {
          "output_type": "stream",
          "name": "stdout",
          "text": [
            "Archive:  /content/glove.6B.zip\n",
            "  inflating: glove.6B.50d.txt        \n",
            "  inflating: glove.6B.100d.txt       \n",
            "  inflating: glove.6B.200d.txt       \n",
            "  inflating: glove.6B.300d.txt       \n"
          ]
        }
      ]
    },
    {
      "cell_type": "markdown",
      "source": [
        "Next step is loading glove embeddings into a map! You have a mapping from a \"Word\" to is embedding!"
      ],
      "metadata": {
        "id": "si-vHM5DCE7A"
      }
    },
    {
      "cell_type": "code",
      "source": [
        "import numpy as np\n",
        "embeddings_index = {}\n",
        "f = open('glove.6B.50d.txt', encoding='utf-8')\n",
        "for line in f:\n",
        "    values = line.split()\n",
        "    word = values[0]\n",
        "    coefs = np.asarray(values[1:], dtype='float32')\n",
        "    coefs = np.expand_dims(coefs, axis=0)\n",
        "    embeddings_index[word] = coefs\n",
        "f.close()"
      ],
      "metadata": {
        "id": "MWdtF2rbEZPW"
      },
      "execution_count": 4,
      "outputs": []
    },
    {
      "cell_type": "code",
      "source": [
        "embeddings_index['seek'].shape\n",
        "embeddings_index['seek']"
      ],
      "metadata": {
        "colab": {
          "base_uri": "https://localhost:8080/"
        },
        "id": "kznhIiiSEokq",
        "outputId": "50f9d862-749c-405b-82ec-43b0153085a1"
      },
      "execution_count": null,
      "outputs": [
        {
          "output_type": "execute_result",
          "data": {
            "text/plain": [
              "array([[-1.0193e-01, -3.4347e-01, -4.2620e-01, -4.1830e-02,  2.8074e-01,\n",
              "        -2.1355e-01,  5.9464e-01, -7.7741e-02,  3.8701e-01, -1.4586e+00,\n",
              "         1.5443e-01, -4.3770e-02, -2.3627e-01, -1.7650e-02, -3.3755e-01,\n",
              "        -2.0405e-01, -2.9805e-01,  8.9903e-03, -2.0793e-01, -3.5135e-01,\n",
              "        -1.4082e-01, -1.1053e-01,  2.4429e-01, -7.4530e-02, -2.8848e-01,\n",
              "        -2.3872e-01,  4.7019e-02, -3.2761e-02,  5.9502e-02,  1.2696e-01,\n",
              "        -8.2850e-02, -1.5517e-01,  3.5736e-01, -3.6118e-01, -7.5178e-01,\n",
              "         5.6018e-03,  9.9709e-02, -2.0028e-01, -6.6980e-02, -3.7837e-01,\n",
              "        -2.0865e-01,  4.3463e-01, -1.1660e-01, -6.1743e-02, -2.2057e-02,\n",
              "        -1.6822e-01, -3.1929e-01, -1.2834e-01,  1.4989e-02, -3.5140e-01,\n",
              "        -1.3835e-01, -3.8990e-01,  3.1931e-01, -3.4010e-01,  3.4773e-01,\n",
              "         2.2718e-01, -2.0873e-01,  5.0088e-01,  9.7563e-02, -1.2701e-01,\n",
              "        -1.2004e-01, -1.6245e-01,  6.9834e-04,  4.3888e-02,  1.8318e-01,\n",
              "        -1.9328e-01,  2.0765e-02, -2.2515e-01,  1.6469e-01,  2.7618e-01,\n",
              "         1.6348e-01, -1.4553e-01,  4.1066e-02,  7.1668e-02,  4.3353e-01,\n",
              "         1.5422e-01, -6.1267e-01,  1.1229e-01,  6.1747e-02, -1.3125e-01,\n",
              "         3.8809e-01,  8.2725e-02, -3.5199e-01,  2.3458e-02, -2.3521e-01,\n",
              "        -1.6959e-02,  9.1248e-02,  7.2056e-02, -3.4564e-01, -2.4886e-02,\n",
              "        -9.0696e-01,  2.2666e-02, -1.0219e-01, -1.2361e-01,  8.1958e-02,\n",
              "         2.3292e-01, -3.5656e-01, -1.5534e-01,  1.8242e-01, -1.4228e-01,\n",
              "        -1.8728e-01, -5.0612e-01, -4.6016e-01,  6.6609e-01,  3.0240e-02,\n",
              "         1.7656e-01, -2.3778e-01, -5.8936e-01,  2.6823e-01, -3.3366e-01,\n",
              "         3.6055e-01, -1.1682e-03, -1.5903e-01, -4.4405e-01,  2.0715e-01,\n",
              "         1.6593e-01,  2.8897e-01, -7.1356e-02,  3.2066e-01,  1.4055e-01,\n",
              "         3.2001e-01,  1.4372e-01, -2.1608e-02, -7.0328e-02,  3.3963e-02,\n",
              "         2.0353e-01,  6.0887e-01,  3.5266e-01,  1.9147e-01, -1.2016e-01,\n",
              "        -6.4823e-02, -2.3729e-01,  3.7365e-01,  1.8352e-01,  3.7013e-01,\n",
              "        -2.0551e-01, -4.8130e-01, -2.3617e-02, -1.4651e-01, -5.8231e-01,\n",
              "         2.6800e-02, -2.9489e-01, -1.6624e-02,  1.7880e-01, -4.4708e-01,\n",
              "        -5.3557e-02, -3.8756e-01,  4.6459e-02, -2.4756e-01, -8.8670e-02,\n",
              "        -9.3018e-02,  1.8934e-01,  2.6846e-01,  2.2201e-01,  1.4147e-01,\n",
              "         6.2236e-02, -2.9752e-01, -2.9512e-01, -4.8196e-02, -1.3245e-01,\n",
              "         3.1031e-01,  1.6220e-01,  9.3563e-02,  3.6971e-01, -6.4313e-02,\n",
              "         1.2735e-01,  1.4942e-02, -2.1233e-01, -1.8378e-01,  3.2530e-02,\n",
              "        -2.4738e-02,  1.0542e-01, -2.2486e-01,  8.8946e-02,  1.8688e-01,\n",
              "         3.3934e-02, -2.9455e-01,  1.9291e-01, -2.5851e-01,  7.8752e-01,\n",
              "        -3.5802e-02, -3.5256e-01,  7.5651e-02,  2.4246e-01, -3.0422e-01,\n",
              "         4.3356e-01, -6.8534e-01,  4.6797e-01,  1.9941e-01, -5.5575e-02,\n",
              "        -5.0708e-01, -5.1971e-02, -3.0809e-01,  1.5320e-01,  1.4879e-01,\n",
              "        -5.8165e-02,  5.7953e-01, -1.9731e-02, -3.6399e-02,  5.5024e-01,\n",
              "         2.6576e-01,  2.2070e-01,  1.9723e-01,  2.9111e-01, -3.0977e-01,\n",
              "         2.3456e-01, -1.1070e-01,  1.2464e-01, -2.1707e-01,  1.6803e-01,\n",
              "         6.0422e-02, -4.0444e-02, -8.6081e-02,  5.6161e-01, -1.9480e-03,\n",
              "        -4.8785e-02, -2.6967e-02,  4.7793e-01, -1.1069e-01, -5.6144e-04,\n",
              "         2.2052e-01, -1.7496e-02, -1.0159e-01,  2.9112e-02, -4.4670e-01,\n",
              "        -6.5127e-01, -1.4727e-01,  3.7042e-01, -5.0917e-02, -4.1658e-01,\n",
              "        -1.8231e-01,  3.6721e-01,  3.6107e-01,  2.6990e-01, -8.8703e-02,\n",
              "        -9.0493e-03, -1.3894e-01,  1.7432e-01, -2.1773e-02, -2.0335e-01,\n",
              "         2.2717e-02,  1.2665e-01,  4.6259e-01, -1.3509e-01, -4.8885e-01,\n",
              "         2.6906e-01,  7.2700e-01, -8.5203e-02, -2.7113e-02, -5.0542e-02,\n",
              "        -1.0372e-01, -1.4736e-02,  3.9458e-01,  1.6201e-01, -1.5394e-01,\n",
              "         9.8167e-02, -3.5525e-02,  5.0260e-01,  8.8916e-02,  3.7156e-01,\n",
              "         2.7369e-01, -6.6339e-01, -1.0392e-01,  8.1285e-02,  1.8641e-01,\n",
              "         1.3558e-01, -2.9539e-01,  6.8002e-02,  5.9545e-02, -2.4412e-01,\n",
              "         3.3703e-04,  1.1564e-01,  3.4647e-01, -1.0137e-01, -1.0606e-01,\n",
              "        -2.6472e-01, -2.1226e+00,  1.6369e-01,  1.4704e+00, -1.7654e-01,\n",
              "        -2.4808e-02, -3.7541e-01, -5.2325e-02,  3.9905e-01, -9.6090e-02,\n",
              "        -4.0684e-01,  5.3482e-01,  5.6384e-01,  8.0264e-02, -1.0740e-01,\n",
              "        -4.7113e-01, -1.5740e-01,  4.2799e-01, -2.0777e-01,  5.2563e-02,\n",
              "         2.0825e-01, -3.4982e-01, -8.8361e-02,  1.5814e-01,  3.3830e-01]],\n",
              "      dtype=float32)"
            ]
          },
          "metadata": {},
          "execution_count": 7
        }
      ]
    },
    {
      "cell_type": "markdown",
      "source": [
        "Our embeddings are ready lets gather some english words! Run cells below!!"
      ],
      "metadata": {
        "id": "IF8aah5ZGcHF"
      }
    },
    {
      "cell_type": "code",
      "source": [
        "import nltk\n",
        "nltk.download('wordnet')\n",
        "nltk.download('omw-1.4')"
      ],
      "metadata": {
        "colab": {
          "base_uri": "https://localhost:8080/"
        },
        "id": "nC3r024Q-C1L",
        "outputId": "07146967-c806-4a23-f928-5f0c117a1374"
      },
      "execution_count": 5,
      "outputs": [
        {
          "output_type": "stream",
          "name": "stderr",
          "text": [
            "[nltk_data] Downloading package wordnet to /root/nltk_data...\n",
            "[nltk_data] Downloading package omw-1.4 to /root/nltk_data...\n"
          ]
        },
        {
          "output_type": "execute_result",
          "data": {
            "text/plain": [
              "True"
            ]
          },
          "metadata": {},
          "execution_count": 5
        }
      ]
    },
    {
      "cell_type": "code",
      "source": [
        "from nltk.corpus import wordnet as wn\n",
        "import random\n",
        "SEED = 4678\n",
        "VERBS = []\n",
        "for synset in list(wn.all_synsets(wn.VERB)):\n",
        "    verb = synset.name().split('.')[0]\n",
        "    if(verb in embeddings_index):\n",
        "        VERBS.append(verb)\n",
        "\n",
        "random.Random(SEED).shuffle(VERBS)\n",
        "NOUNS = []\n",
        "\n",
        "for synset in list(wn.all_synsets(wn.NOUN)):\n",
        "    noun = synset.name().split('.')[0]\n",
        "    if(noun in embeddings_index):\n",
        "        NOUNS.append(noun)\n",
        "\n",
        "\n",
        "random.Random(SEED).shuffle(NOUNS)\n"
      ],
      "metadata": {
        "id": "CjYk83_-ptMA"
      },
      "execution_count": 6,
      "outputs": []
    },
    {
      "cell_type": "code",
      "source": [
        "len(VERBS), len(NOUNS)"
      ],
      "metadata": {
        "colab": {
          "base_uri": "https://localhost:8080/"
        },
        "id": "C1A2fBX1_aBZ",
        "outputId": "5c6bd91a-d85e-4a05-9d3d-db202829b11d"
      },
      "execution_count": null,
      "outputs": [
        {
          "output_type": "execute_result",
          "data": {
            "text/plain": [
              "(10891, 43680)"
            ]
          },
          "metadata": {},
          "execution_count": 10
        }
      ]
    },
    {
      "cell_type": "code",
      "source": [
        "NOUNS = NOUNS[:100]\n",
        "VERBS = VERBS[:100]\n",
        "\n",
        "x_train = NOUNS[:64] + VERBS[:64]\n",
        "y_train = [0] * 64 + [1] * 64\n",
        "x_test = NOUNS[64:] + VERBS[64:]\n",
        "y_test = [0] * 36 + [1] * 36\n",
        "\n",
        "c = list(zip(x_train, y_train))\n",
        "random.Random(SEED).shuffle(c)\n",
        "x_train, y_train = zip(*c)\n",
        "y_train = np.array(y_train)\n",
        "c = list(zip(x_test, y_test))\n",
        "random.Random(SEED).shuffle(c)\n",
        "x_test, y_test = zip(*c)\n",
        "y_test = np.array(y_test)\n"
      ],
      "metadata": {
        "id": "AL_bynbXAx6v"
      },
      "execution_count": 7,
      "outputs": []
    },
    {
      "cell_type": "code",
      "source": [
        "for word in x_train + x_test : \n",
        "    assert len(embeddings_index[word][0]) == 50"
      ],
      "metadata": {
        "id": "fLw6PUHUEwQu"
      },
      "execution_count": 8,
      "outputs": []
    },
    {
      "cell_type": "markdown",
      "source": [
        "Dataset is ready, time to implement our Logistic regression model! Logistic regression takes a vector as input and outputs a probability for each vector!! This model uses Sigmoid function:\n",
        "\n",
        "\n",
        "The exact formula of sigmoid is:\n",
        "<h1><center>$σ(x) = \\frac{1}{1 + e^{-x}}$</center></h1>\n",
        " "
      ],
      "metadata": {
        "id": "-Mp4diFBHVx8"
      }
    },
    {
      "cell_type": "markdown",
      "source": [
        "<img src=\"https://cdn.hackaday.io/images/5998011530593785298.png\" alt=\"Scalar, Vectors and Tensors\" style=\"height: 100px; width:100px;\"/>"
      ],
      "metadata": {
        "id": "8eUiDduaKfNF"
      }
    },
    {
      "cell_type": "markdown",
      "source": [
        "Hypothesis should be like:\n",
        "\n",
        "<h1><canter>$H(X, w, b) = Sigmoid(W^T.X + b)$</center></h1>\n",
        "\n",
        "Cost function should be like:\n",
        "\n",
        "<h1><canter>$J = -\\Sigma_mYlog(H) + (1 - Y)log(1-H)$</center></h1>"
      ],
      "metadata": {
        "id": "aYUWHH3eZd5-"
      }
    },
    {
      "cell_type": "code",
      "source": [
        "class LogisticRegression:\n",
        "    \n",
        "    def __init__(self, learning_rate = 0.01, num_iterations = 2000):\n",
        "        self.learning_rate = learning_rate\n",
        "        self.num_iterations = num_iterations\n",
        "        self.w = []\n",
        "        self.b = 0\n",
        "    \n",
        "    def initialize_weight(self,dim):\n",
        "        \"\"\"\n",
        "        This function creates a vector of zeros of shape (dim, 1)  for w and initializes b to 0.\n",
        "        returns w and b\n",
        "        Argument:\n",
        "        dim -- size of the w vector we want (or number of parameters  in this case)\n",
        "        \"\"\"\n",
        "        #### YOUR CODE HERE #####\n",
        "        self.w = np.zeros(dim)\n",
        "        self.b = 0\n",
        "        return self.w, self.b\n",
        "    \n",
        "    def sigmoid(self,z):\n",
        "        \"\"\"\n",
        "        Compute the sigmoid of z\n",
        "        Argument:\n",
        "        z -- is the decision boundary of the classifier\n",
        "        \"\"\"\n",
        "        #### YOUR CODE HERE #####\n",
        "        z = 1 / (1 + np.exp(-1 * z))\n",
        "        return z\n",
        "\n",
        "    def hypothesis(self,w,X,b):\n",
        "        \"\"\"\n",
        "        This function calculates the hypothesis for the present model\n",
        "        Argument:\n",
        "        w -- weight vector\n",
        "        X -- The input vector\n",
        "        b -- The bias vector\n",
        "        \"\"\"\n",
        "        #### YOUR CODE HERE #####\n",
        "        return self.sigmoid(np.dot(np.transpose(w),X) + b)\n",
        "    \n",
        "    def cost(self,H,Y,m):\n",
        "        \"\"\"\n",
        "        This function calculates the cost of hypothesis\n",
        "        Arguments: \n",
        "        H -- The hypothesis vector \n",
        "        Y -- The output \n",
        "        m -- Number training samples\n",
        "        \"\"\"\n",
        "        #### YOUR CODE HERE #####\n",
        "        return -1 * np.sum(np.dot(Y,np.log(H)) + np.dot((1 - Y),np.log(1-H)))\n",
        "    \n",
        "    def cal_gradient(self, w,H,X,Y):\n",
        "        \"\"\"\n",
        "        Calculates gradient of the given model in learning space\n",
        "        \"\"\"\n",
        "        m = X.shape[1]\n",
        "        dw = np.dot(X,(H-Y).T)/m\n",
        "        db = np.sum(H-Y)/m\n",
        "        grads = {\"dw\": dw,\n",
        "                 \"db\": db}\n",
        "        return grads\n",
        " \n",
        "    def predict(self,X):\n",
        "        '''\n",
        "        Predict whether the label is 0 or 1 using learned logistic regression parameters (w, b)\n",
        "    \n",
        "        Arguments:\n",
        "        w -- weights, a numpy array of size (n, 1)\n",
        "        b -- bias, a scalar\n",
        "        X -- data of size (num_px * num_px * 3, number of examples)\n",
        "    \n",
        "        Returns:\n",
        "        Y_prediction -- a numpy array (vector) containing all predictions (0/1) for the examples in X\n",
        "        '''\n",
        "        X = np.array(X)\n",
        "        m = X.shape[1]\n",
        "  \n",
        "        Y_prediction = np.zeros((1,m))\n",
        "  \n",
        "        w = self.w.reshape(X.shape[0], 1)\n",
        "        b = self.b\n",
        "        # Compute vector \"H\" \n",
        "        H = self.hypothesis(w, X, b)\n",
        " \n",
        "        for i in range(H.shape[1]):\n",
        "        # Convert probabilities H[0,i] to actual predictions p[0,i]\n",
        "            if H[0,i] >= 0.5:\n",
        "                Y_prediction[0,i] = 1\n",
        "            else: \n",
        "                Y_prediction[0,i] = 0\n",
        "   \n",
        "        return Y_prediction\n",
        "    def gradient_position(self, w, b, X, Y):\n",
        "        \"\"\"\n",
        "        It just gets calls various functions to get status of learning model\n",
        "        Arguments:\n",
        "        w -- weights, a numpy array of size (dim, 1)\n",
        "        b -- bias, a scalar\n",
        "        X -- data of size (b, dim)\n",
        "        Y -- true \"label\" vector (containing 0 or 1 ) of size (b, number of examples)\n",
        "        \"\"\"\n",
        "        m = X.shape[1]\n",
        "        H = self.hypothesis(w,X,b)         # compute activation\n",
        "        cost = self.cost(H,Y,m)               # compute cost\n",
        "        grads = self.cal_gradient(w, H, X, Y) # compute gradient\n",
        "        return grads, cost\n",
        "    \n",
        "    def gradient_descent(self, w, b, X, Y, print_cost = False):\n",
        "        \"\"\"\n",
        "        This function optimizes w and b by running a gradient descent algorithm\n",
        "    \n",
        "        Arguments:\n",
        "        w — weights, a numpy array of size (num_px * num_px * 3, 1)\n",
        "        b — bias, a scalar\n",
        "        X -- data of size (no. of features, number of examples)\n",
        "        Y -- true \"label\" vector (containing 0 or 1 ) of size (1, number of examples)\n",
        "        print_cost — True to print the loss every 100 steps\n",
        "    \n",
        "        Returns:\n",
        "        params — dictionary containing the weights w and bias b\n",
        "        grads — dictionary containing the gradients of the weights and bias with respect to the cost function\n",
        "        costs — list of all the costs computed during the optimization, this will be used to plot the learning curve.\n",
        "        \"\"\"\n",
        " \n",
        "        costs = []\n",
        " \n",
        "        for i in range(self.num_iterations):\n",
        "        # Cost and gradient calculation \n",
        "            grads, cost = self.gradient_position(w,b,X,Y)\n",
        " \n",
        " \n",
        "        # Retrieve derivatives from grads\n",
        "        dw = grads[\"dw\"]\n",
        "        db = grads[\"db\"]\n",
        " \n",
        "        # update rule \n",
        "        w = w - (self.learning_rate * dw) \n",
        "        b = b - (self.learning_rate * db)\n",
        " \n",
        "        # Record the costs\n",
        "        if i % 100 == 0:\n",
        "            costs.append(cost)\n",
        " \n",
        "        # Print the cost every 100 training iterations\n",
        "        if print_cost and i % 100 == 0:\n",
        "             print (\"Cost after iteration %i: %f\" %(i, cost))\n",
        " \n",
        " \n",
        "        params = {\"w\": w,\n",
        "                  \"b\": b}\n",
        " \n",
        "        grads = {\n",
        "                 \"dw\": dw,\n",
        "                 \"db\": db\n",
        "                 }\n",
        "    \n",
        "        return params, grads, costs\n",
        "    \n",
        "    def train_model(self, X_train, Y_train, X_test, Y_test, print_cost = False):\n",
        "        \"\"\"\n",
        "        Builds the logistic regression model by calling the function you’ve implemented previously\n",
        "    \n",
        "        Arguments:\n",
        "        X_train — training set represented by a numpy array of shape (features, m_train)\n",
        "        Y_train — training labels represented by a numpy array (vector) of shape (1, m_train)\n",
        "        X_test — test set represented by a numpy array of shape (features, m_test)\n",
        "        Y_test — test labels represented by a numpy array (vector) of shape (1, m_test)\n",
        "        print_cost — Set to true to print the cost every 100 iterations\n",
        "    \n",
        "        Returns:\n",
        "        d — dictionary containing information about the model.\n",
        "        \"\"\"\n",
        "        # initialize parameters with zeros \n",
        "        dim = np.shape(X_train)[0]\n",
        "        w, b = self.initialize_weight(dim)\n",
        "        # Gradient descent \n",
        "        \n",
        "        parameters, grads, costs = self.gradient_descent(w, b, X_train, Y_train, print_cost = False)\n",
        " \n",
        "        # Retrieve parameters w and b from dictionary “parameters”\n",
        "        self.w = parameters[\"w\"]\n",
        "        self.b = parameters[\"b\"]\n",
        " \n",
        "        # Predict test/train set examples \n",
        "        Y_prediction_test = self.predict(X_test)\n",
        "        Y_prediction_train = self.predict(X_train)\n",
        "        # Print train/test Errors\n",
        "        train_score = 100 - np.mean(np.abs(Y_prediction_train - Y_train)) * 100\n",
        "        test_score = 100 - np.mean(np.abs(Y_prediction_test - Y_test)) * 100\n",
        "        print(\"train accuracy: {} %\".format(100 - np.mean(np.abs(Y_prediction_train - Y_train)) * 100))\n",
        "        print(\"test accuracy: {} %\".format(100 - np.mean(np.abs(Y_prediction_test - Y_test)) * 100))\n",
        "        d = {\"costs\": costs,\n",
        "             \"w\" : self.w, \n",
        "             \"b\" : self.b,\n",
        "             \"learning_rate\": self.learning_rate,\n",
        "             \"num_iterations\": self.num_iterations,\n",
        "             \"train accuracy\": train_score,\n",
        "             \"test accuracy\" : test_score}\n",
        " \n",
        "        return d"
      ],
      "metadata": {
        "id": "wUt6ZDLeHUWC"
      },
      "execution_count": 9,
      "outputs": []
    },
    {
      "cell_type": "markdown",
      "source": [
        "Congrats!! We've got a simple regression model, time to concatenate all vector embeddings and train the model on it!!"
      ],
      "metadata": {
        "id": "XiM9dxwdo5zJ"
      }
    },
    {
      "cell_type": "code",
      "source": [
        "X_train = []\n",
        "X_test = []\n",
        "for word in x_train:\n",
        "    ###### YOUR CODE HERE #####\n",
        "    # you have to add each word embedding to train array\n",
        "    X_train.append(embeddings_index[word])\n",
        "\n",
        "for word in x_test:\n",
        "    ###### YOUR CODE HERE #####\n",
        "    # you have to add each word embedding to test array\n",
        "    X_test.append(embeddings_index[word])\n",
        "\n",
        "X_train = np.concatenate(X_train) # Conacat all embedding to a simple matrix\n",
        "X_test =  np.concatenate(X_test) # Concat all embeddings to a simple matrix\n",
        "\n",
        "X_train = X_train.transpose(1, 0)\n",
        "X_test = X_test.transpose(1, 0)"
      ],
      "metadata": {
        "id": "isDqThJsLVn-"
      },
      "execution_count": 10,
      "outputs": []
    },
    {
      "cell_type": "code",
      "source": [
        "X_train.shape, X_test.shape\n",
        "\n",
        "#exptected: ((300, 128), (300, 72))"
      ],
      "metadata": {
        "colab": {
          "base_uri": "https://localhost:8080/"
        },
        "id": "GmzMRMavhcZS",
        "outputId": "1ec1b23f-d80a-49ef-9c55-b8028caab781"
      },
      "execution_count": 11,
      "outputs": [
        {
          "output_type": "execute_result",
          "data": {
            "text/plain": [
              "((50, 128), (50, 72))"
            ]
          },
          "metadata": {},
          "execution_count": 11
        }
      ]
    },
    {
      "cell_type": "markdown",
      "source": [
        "#Results!"
      ],
      "metadata": {
        "id": "FGxZk3-Dp1eF"
      }
    },
    {
      "cell_type": "code",
      "source": [
        "regression = LogisticRegression()\n",
        "results = regression.train_model(X_train, y_train, X_test, y_test, print_cost = False)"
      ],
      "metadata": {
        "colab": {
          "base_uri": "https://localhost:8080/"
        },
        "id": "AbnZQ_wqjmu2",
        "outputId": "5bf7aea8-b357-48bf-edaa-b3d64733cea0"
      },
      "execution_count": 12,
      "outputs": [
        {
          "output_type": "stream",
          "name": "stdout",
          "text": [
            "train accuracy: 74.21875 %\n",
            "test accuracy: 69.44444444444444 %\n"
          ]
        }
      ]
    },
    {
      "cell_type": "markdown",
      "source": [
        "#Save them!\n",
        "\n",
        "Save your results in a pickle and move it to your google drive!"
      ],
      "metadata": {
        "id": "amvA0I3_qCGm"
      }
    },
    {
      "cell_type": "code",
      "source": [
        "##### YOUR CODE HERE #####\n",
        "import pickle \n",
        "with open(\"result50.pickle\", 'wb') as f:\n",
        "    pickle.dump(results, f)\n"
      ],
      "metadata": {
        "id": "ueEs2E6EnKK4"
      },
      "execution_count": 13,
      "outputs": []
    },
    {
      "cell_type": "code",
      "source": [
        "!mv result50.pickle /content/drive/MyDrive"
      ],
      "metadata": {
        "id": "HXWoGq7Xvq4K"
      },
      "execution_count": 15,
      "outputs": []
    },
    {
      "cell_type": "markdown",
      "source": [
        "#HAVE FUN"
      ],
      "metadata": {
        "id": "ek74DsAKq2kE"
      }
    },
    {
      "cell_type": "markdown",
      "source": [
        "data accuracy is better when dimension is bigger because in that situation the way of showing a word is better but if dimension is smaller, showing the word is limited.\n"
      ],
      "metadata": {
        "id": "RO9xWjPAVHJO"
      }
    }
  ]
}